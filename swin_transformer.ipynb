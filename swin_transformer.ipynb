{
 "cells": [
  {
   "cell_type": "code",
   "execution_count": 19,
   "id": "51d46886-7b5e-4194-9d57-f1c3cd145039",
   "metadata": {},
   "outputs": [
    {
     "name": "stdout",
     "output_type": "stream",
     "text": [
      "The autoreload extension is already loaded. To reload it, use:\n",
      "  %reload_ext autoreload\n"
     ]
    }
   ],
   "source": [
    "%load_ext autoreload\n",
    "%autoreload 2\n",
    "\n",
    "import torch\n",
    "import torch.nn as nn\n",
    "import torchvision\n",
    "import torchvision.transforms as transforms\n",
    "import matplotlib.pyplot as plt\n",
    "import numpy as np\n",
    "from torchinfo import summary\n",
    "import timm\n",
    "from pytorch_models_imp.swin_transformer import PatchEmbeddings, PatchMerging, partition_window, reverse_partition, WindowSelfAttention, SwinTransformer, SwinBlock, TransformerBlock"
   ]
  },
  {
   "cell_type": "code",
   "execution_count": 2,
   "id": "b06a41cd-3285-4f4a-b5b2-76233554e206",
   "metadata": {},
   "outputs": [
    {
     "name": "stdout",
     "output_type": "stream",
     "text": [
      "Files already downloaded and verified\n",
      "Files already downloaded and verified\n"
     ]
    }
   ],
   "source": [
    "transform = transforms.Compose(\n",
    "    [\n",
    "        transforms.ToTensor(),\n",
    "        transforms.Resize(224),\n",
    "        transforms.Normalize((0.5, 0.5, 0.5), (0.5, 0.5, 0.5))\n",
    "    ]\n",
    ")\n",
    "\n",
    "batch_size = 128\n",
    "\n",
    "trainset = torchvision.datasets.CIFAR10(root='./data', train=True,\n",
    "                                        download=True, transform=transform)\n",
    "trainloader = torch.utils.data.DataLoader(trainset, batch_size=batch_size,\n",
    "                                          shuffle=True, num_workers=5)\n",
    "\n",
    "testset = torchvision.datasets.CIFAR10(root='./data', train=False,\n",
    "                                       download=True, transform=transform)\n",
    "testloader = torch.utils.data.DataLoader(testset, batch_size=batch_size,\n",
    "                                         shuffle=False, num_workers=5)\n",
    "\n",
    "classes = ('plane', 'car', 'bird', 'cat',\n",
    "           'deer', 'dog', 'frog', 'horse', 'ship', 'truck')"
   ]
  },
  {
   "cell_type": "code",
   "execution_count": 3,
   "id": "a2b54f15-a2c6-42c4-86b4-b97b39e194e0",
   "metadata": {},
   "outputs": [],
   "source": [
    "images, labels = next(iter(trainloader))"
   ]
  },
  {
   "cell_type": "code",
   "execution_count": 4,
   "id": "50390c1b-0af8-454e-a7b5-b0839fe968e8",
   "metadata": {},
   "outputs": [],
   "source": [
    "N, C, H, W = images.shape"
   ]
  },
  {
   "cell_type": "markdown",
   "id": "5e6bb8b1-92b6-43cf-88bf-3939511c4334",
   "metadata": {},
   "source": [
    "### Images to patches"
   ]
  },
  {
   "cell_type": "code",
   "execution_count": 5,
   "id": "873b6367-eae7-4293-a1c6-4516a68407ff",
   "metadata": {},
   "outputs": [],
   "source": [
    "IMAGE_SIZE = 224\n",
    "PATCH_SIZE = 4\n",
    "EMBED_SIZE = 96\n",
    "patch_embedder = PatchEmbeddings(IMAGE_SIZE, PATCH_SIZE, EMBED_SIZE)"
   ]
  },
  {
   "cell_type": "code",
   "execution_count": 6,
   "id": "792d12ec-c103-4e55-8cc1-a583e0c57390",
   "metadata": {},
   "outputs": [],
   "source": [
    "patch_resolution = patch_embedder.patch_resolution"
   ]
  },
  {
   "cell_type": "code",
   "execution_count": 7,
   "id": "4ea28674-b05b-4e49-83c6-5c1091f1cefe",
   "metadata": {},
   "outputs": [
    {
     "name": "stdout",
     "output_type": "stream",
     "text": [
      "NUM OF PATCHES: 3136. Patch resolution: 56\n"
     ]
    }
   ],
   "source": [
    "print(f\"NUM OF PATCHES: {patch_embedder.num_of_patches}. Patch resolution: {patch_resolution}\")\n",
    "patches_out = patch_embedder(images)\n",
    "assert patches_out.shape == (N, patch_embedder.num_of_patches, EMBED_SIZE)  # batch, number_of_patches, embed_size"
   ]
  },
  {
   "cell_type": "markdown",
   "id": "ac3ab0aa-0318-43cc-92c9-e8c4a847cd70",
   "metadata": {},
   "source": [
    "### Patch merging"
   ]
  },
  {
   "cell_type": "code",
   "execution_count": 8,
   "id": "a635a881-8fa5-4a87-aa11-6cf2f1e63ccf",
   "metadata": {},
   "outputs": [],
   "source": [
    "patch_merging = PatchMerging((patch_resolution, patch_resolution), EMBED_SIZE)\n",
    "patch_merging_out = patch_merging(patches_out)"
   ]
  },
  {
   "cell_type": "code",
   "execution_count": 9,
   "id": "83b1c405-0a97-440d-b006-3be3d4b45007",
   "metadata": {},
   "outputs": [],
   "source": [
    "assert patch_merging_out.shape == (N, (patch_resolution // 2)**2, EMBED_SIZE * 2)  # batch, number_of_patches, embed_size * 2"
   ]
  },
  {
   "cell_type": "markdown",
   "id": "3ff515c6-a07c-481f-b91f-9b7409e7e82c",
   "metadata": {},
   "source": [
    "### Partition & reverse window"
   ]
  },
  {
   "cell_type": "code",
   "execution_count": 21,
   "id": "8ae3723a-13ba-46f8-99de-0b772ad0295f",
   "metadata": {},
   "outputs": [
    {
     "data": {
      "text/plain": [
       "torch.Size([8192, 7, 7, 96])"
      ]
     },
     "execution_count": 21,
     "metadata": {},
     "output_type": "execute_result"
    }
   ],
   "source": [
    "window_size = 7\n",
    "patches_with_resolution = patches_out.reshape(N, patch_resolution, patch_resolution, -1)\n",
    "B, H, W, C = patches_with_resolution.shape\n",
    "partitioned_out = partition_window(patches_with_resolution, window_size)\n",
    "partitioned_out.shape # B * nwindows, window_size**2, C"
   ]
  },
  {
   "cell_type": "code",
   "execution_count": 22,
   "id": "ba4262f8-7822-4349-800a-71455fb8f6a3",
   "metadata": {
    "tags": []
   },
   "outputs": [
    {
     "name": "stdout",
     "output_type": "stream",
     "text": [
      "torch.Size([128, 56, 56, 96])\n"
     ]
    }
   ],
   "source": [
    "reversed_out = reverse_partition(partitioned_out, window_size, H, W)\n",
    "print(reversed_out.shape)\n",
    "assert (patches_with_resolution == reversed_out).all()"
   ]
  },
  {
   "cell_type": "markdown",
   "id": "7c5d599e-3082-4e4a-a635-9e66252198a2",
   "metadata": {},
   "source": [
    "### Window Attention with relative bias"
   ]
  },
  {
   "cell_type": "code",
   "execution_count": 23,
   "id": "10ec16ea-23ca-4987-99d7-371e61fac3d1",
   "metadata": {},
   "outputs": [],
   "source": [
    "HEADS = 3\n",
    "DROPOUT = 0.0\n",
    "self_attention = WindowSelfAttention(HEADS, (window_size, window_size), EMBED_SIZE,  DROPOUT)\n",
    "partitioned_out = partitioned_out.view(-1, window_size * window_size, C)"
   ]
  },
  {
   "cell_type": "code",
   "execution_count": 24,
   "id": "e1c57755-40fe-4742-b482-fc8aeece330f",
   "metadata": {},
   "outputs": [],
   "source": [
    "self_attention_out = self_attention(partitioned_out, partitioned_out, partitioned_out)"
   ]
  },
  {
   "cell_type": "code",
   "execution_count": 25,
   "id": "52623bc4-0a7a-46f8-96c4-f0f3855868a1",
   "metadata": {},
   "outputs": [],
   "source": [
    "assert self_attention_out.shape == (partitioned_out.shape[0], window_size * window_size, C)"
   ]
  },
  {
   "cell_type": "markdown",
   "id": "7046ee5d-837d-4938-a067-debfd17bcf81",
   "metadata": {},
   "source": [
    "### Transformer block"
   ]
  },
  {
   "cell_type": "code",
   "execution_count": 49,
   "id": "39e6527e-a32c-4fdb-944f-ff558e62da8e",
   "metadata": {},
   "outputs": [],
   "source": [
    "transformer_block = TransformerBlock(heads=HEADS, shift_size=window_size // 2, embed_size=EMBED_SIZE, window_size=window_size,\n",
    "                              patches_resolution=(patches_resolution, patches_resolution), forward_expansion=4, dropout=0.1)"
   ]
  },
  {
   "cell_type": "code",
   "execution_count": 50,
   "id": "9c641742-e665-475b-9599-7d3c9c06ecbe",
   "metadata": {},
   "outputs": [],
   "source": [
    "transformer_out = transformer_block(patches_out)\n",
    "assert transformer_out.shape == (N, patches_resolution**2, C)"
   ]
  },
  {
   "cell_type": "markdown",
   "id": "838e7f63-b136-4f56-b9f6-60f559212a63",
   "metadata": {},
   "source": [
    "### Swin block"
   ]
  },
  {
   "cell_type": "code",
   "execution_count": 51,
   "id": "161b5186-1fec-449f-813d-4dc188c74716",
   "metadata": {},
   "outputs": [],
   "source": [
    "swin_block = SwinBlock((patches_resolution, patches_resolution), heads=HEADS, depth=2, embed_size=EMBED_SIZE, expansion=4, window_size=window_size, dropout=0.0, downsample=PatchMerging)"
   ]
  },
  {
   "cell_type": "code",
   "execution_count": 52,
   "id": "0a62960d-e6fe-45e0-b65f-79d63c76e07d",
   "metadata": {},
   "outputs": [],
   "source": [
    "swin_block_out = swin_block(patches_out)"
   ]
  },
  {
   "cell_type": "code",
   "execution_count": 53,
   "id": "62251c2a-b987-4314-916f-b90dacac5cfb",
   "metadata": {},
   "outputs": [],
   "source": [
    "assert swin_block_out.shape == (N, patches_out.shape[1] // 4, patches_out.shape[2] * 2)"
   ]
  },
  {
   "cell_type": "markdown",
   "id": "270db99f-6d05-4e85-809d-ac818658e89d",
   "metadata": {},
   "source": [
    "### Swin transformer"
   ]
  },
  {
   "cell_type": "code",
   "execution_count": 89,
   "id": "0f9f6382-458f-4606-9a16-6b078ab901fb",
   "metadata": {},
   "outputs": [],
   "source": [
    "swin_transformer = SwinTransformer(IMAGE_SIZE, 1000)"
   ]
  },
  {
   "cell_type": "code",
   "execution_count": 85,
   "id": "c69df0ca-0745-4035-a2dd-4e571e8011f2",
   "metadata": {},
   "outputs": [],
   "source": [
    "swin_transformer_out = swin_transformer(images)"
   ]
  },
  {
   "cell_type": "markdown",
   "id": "3bab5f64-0363-48c0-99f7-7fa2fa91630e",
   "metadata": {},
   "source": [
    "### Compare with Timm"
   ]
  },
  {
   "cell_type": "code",
   "execution_count": 86,
   "id": "39fcbf6d-5ba6-4974-a225-29f0439515e9",
   "metadata": {},
   "outputs": [],
   "source": [
    "swin_timm = timm.create_model(\n",
    "    \"swin_tiny_patch4_window7_224\", pretrained=True, num_classes=1000\n",
    ")"
   ]
  },
  {
   "cell_type": "code",
   "execution_count": 95,
   "id": "2ef982e6-0f4f-4f5f-b4fd-88906f3aa3fa",
   "metadata": {},
   "outputs": [
    {
     "data": {
      "text/plain": [
       "====================================================================================================\n",
       "Layer (type:depth-idx)                             Output Shape              Param #\n",
       "====================================================================================================\n",
       "SwinTransformer                                    --                        --\n",
       "├─Sequential: 1                                    --                        --\n",
       "│    └─BasicLayer: 2                               --                        --\n",
       "│    │    └─ModuleList: 3-1                        --                        224,694\n",
       "│    └─BasicLayer: 2                               --                        --\n",
       "│    │    └─ModuleList: 3-2                        --                        891,756\n",
       "│    └─BasicLayer: 2                               --                        --\n",
       "│    │    └─ModuleList: 3-3                        --                        10,658,952\n",
       "│    └─BasicLayer: 2                               --                        --\n",
       "│    │    └─ModuleList: 3-4                        --                        14,183,856\n",
       "├─PatchEmbed: 1-1                                  [1, 3136, 96]             --\n",
       "│    └─Conv2d: 2-1                                 [1, 96, 56, 56]           4,704\n",
       "│    └─LayerNorm: 2-2                              [1, 3136, 96]             192\n",
       "├─Dropout: 1-2                                     [1, 3136, 96]             --\n",
       "├─Sequential: 1-3                                  [1, 49, 768]              --\n",
       "│    └─BasicLayer: 2-3                             [1, 784, 192]             --\n",
       "│    │    └─PatchMerging: 3-5                      [1, 784, 192]             74,496\n",
       "│    └─BasicLayer: 2-4                             [1, 196, 384]             --\n",
       "│    │    └─PatchMerging: 3-6                      [1, 196, 384]             296,448\n",
       "│    └─BasicLayer: 2-5                             [1, 49, 768]              --\n",
       "│    │    └─PatchMerging: 3-7                      [1, 49, 768]              1,182,720\n",
       "│    └─BasicLayer: 2-6                             [1, 49, 768]              --\n",
       "├─LayerNorm: 1-4                                   [1, 49, 768]              1,536\n",
       "├─AdaptiveAvgPool1d: 1-5                           [1, 768, 1]               --\n",
       "├─Linear: 1-6                                      [1, 1000]                 769,000\n",
       "====================================================================================================\n",
       "Total params: 28,265,032\n",
       "Trainable params: 28,265,032\n",
       "Non-trainable params: 0\n",
       "Total mult-adds (M): 62.80\n",
       "====================================================================================================\n",
       "Input size (MB): 0.60\n",
       "Forward/backward pass size (MB): 137.29\n",
       "Params size (MB): 113.06\n",
       "Estimated Total Size (MB): 250.95\n",
       "===================================================================================================="
      ]
     },
     "execution_count": 95,
     "metadata": {},
     "output_type": "execute_result"
    }
   ],
   "source": [
    "summary(swin_timm, input_size=(1, 3, 224, 224), device='cpu')"
   ]
  },
  {
   "cell_type": "code",
   "execution_count": 96,
   "id": "066a0f3c-1c50-4f1e-ab45-65fdf838638d",
   "metadata": {},
   "outputs": [
    {
     "data": {
      "text/plain": [
       "=========================================================================================================\n",
       "Layer (type:depth-idx)                                  Output Shape              Param #\n",
       "=========================================================================================================\n",
       "SwinTransformer                                         --                        --\n",
       "├─ModuleList: 1-1                                       --                        --\n",
       "│    └─SwinBlock: 2                                     --                        --\n",
       "│    │    └─ModuleList: 3-1                             --                        224,694\n",
       "│    └─SwinBlock: 2                                     --                        --\n",
       "│    │    └─ModuleList: 3-2                             --                        891,756\n",
       "│    └─SwinBlock: 2                                     --                        --\n",
       "│    │    └─ModuleList: 3-3                             --                        10,658,952\n",
       "│    └─SwinBlock: 2                                     --                        --\n",
       "│    │    └─ModuleList: 3-4                             --                        14,183,856\n",
       "├─PatchEmbeddings: 1-2                                  [1, 3136, 96]             --\n",
       "│    └─Conv2d: 2-1                                      [1, 96, 56, 56]           4,704\n",
       "│    └─LayerNorm: 2-2                                   [1, 3136, 96]             192\n",
       "├─Dropout: 1-3                                          [1, 3136, 96]             --\n",
       "├─ModuleList: 1-1                                       --                        --\n",
       "│    └─SwinBlock: 2-3                                   [1, 784, 192]             --\n",
       "│    │    └─PatchMerging: 3-5                           [1, 784, 192]             74,496\n",
       "│    └─SwinBlock: 2-4                                   [1, 196, 384]             --\n",
       "│    │    └─PatchMerging: 3-6                           [1, 196, 384]             296,448\n",
       "│    └─SwinBlock: 2-5                                   [1, 49, 768]              --\n",
       "│    │    └─PatchMerging: 3-7                           [1, 49, 768]              1,182,720\n",
       "│    └─SwinBlock: 2-6                                   [1, 49, 768]              --\n",
       "├─LayerNorm: 1-4                                        [1, 49, 768]              1,536\n",
       "├─Sequential: 1-5                                       [1, 1000]                 --\n",
       "│    └─Linear: 2-7                                      [1, 1000]                 769,000\n",
       "=========================================================================================================\n",
       "Total params: 28,265,032\n",
       "Trainable params: 28,265,032\n",
       "Non-trainable params: 0\n",
       "Total mult-adds (M): 62.80\n",
       "=========================================================================================================\n",
       "Input size (MB): 0.60\n",
       "Forward/backward pass size (MB): 137.29\n",
       "Params size (MB): 113.06\n",
       "Estimated Total Size (MB): 250.95\n",
       "========================================================================================================="
      ]
     },
     "execution_count": 96,
     "metadata": {},
     "output_type": "execute_result"
    }
   ],
   "source": [
    "summary(swin_transformer, input_size=(1, 3, 224, 224), device='cpu')"
   ]
  },
  {
   "cell_type": "code",
   "execution_count": null,
   "id": "2fd0b9a7-7e70-40d6-99ac-d565f801aa82",
   "metadata": {},
   "outputs": [],
   "source": []
  }
 ],
 "metadata": {
  "kernelspec": {
   "display_name": "Python 3 (ipykernel)",
   "language": "python",
   "name": "python3"
  },
  "language_info": {
   "codemirror_mode": {
    "name": "ipython",
    "version": 3
   },
   "file_extension": ".py",
   "mimetype": "text/x-python",
   "name": "python",
   "nbconvert_exporter": "python",
   "pygments_lexer": "ipython3",
   "version": "3.8.12"
  }
 },
 "nbformat": 4,
 "nbformat_minor": 5
}

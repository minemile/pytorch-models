{
 "cells": [
  {
   "cell_type": "code",
   "execution_count": 10,
   "id": "01c4c871-6ff3-492d-88a7-b04889b85328",
   "metadata": {},
   "outputs": [
    {
     "name": "stdout",
     "output_type": "stream",
     "text": [
      "The autoreload extension is already loaded. To reload it, use:\n",
      "  %reload_ext autoreload\n"
     ]
    }
   ],
   "source": [
    "%load_ext autoreload\n",
    "%autoreload 2\n",
    "\n",
    "from pytorch_models_imp.resnet import ResNet, resnet152\n",
    "from pytorch_models_imp.mobilenet_v2 import InvertedResidual, MobileNetV2, mobile_net_config\n",
    "from pytorch_models_imp.mobilenet_v3 import InvertedResidualV3, mobilenet_v3_small, mobilenet_v3_large\n",
    "from pytorch_models_imp.deeplabv3 import DeepLabv3\n",
    "from torchvision.models.resnet import resnet50\n",
    "import torch\n",
    "import torch.nn as nn\n",
    "import numpy as np\n",
    "import torch.nn.functional as F"
   ]
  },
  {
   "cell_type": "code",
   "execution_count": 11,
   "id": "007b5630-aca4-4472-bc70-cf5f55d36fd3",
   "metadata": {},
   "outputs": [],
   "source": [
    "def calculate_params(model):\n",
    "    return sum(p.numel() for p in model.parameters() if p.requires_grad)"
   ]
  },
  {
   "cell_type": "markdown",
   "id": "720e064c-be03-454c-afcc-5e99c5fe8ef3",
   "metadata": {},
   "source": [
    "### Input example"
   ]
  },
  {
   "cell_type": "code",
   "execution_count": 12,
   "id": "a17ceb8d-6a55-44d4-ac74-cba9d914a3eb",
   "metadata": {},
   "outputs": [],
   "source": [
    "x = torch.randn(2, 3, 224, 224)\n",
    "n_x, c_x, h_x, w_x = x.shape\n",
    "\n",
    "w = 112\n",
    "h = 112\n",
    "b = 2\n",
    "in_ch = 16\n",
    "for_inverted = torch.randn(b, in_ch, h, w)"
   ]
  },
  {
   "cell_type": "markdown",
   "id": "24811fce-4d9a-444e-b524-142268954fcb",
   "metadata": {},
   "source": [
    "## Resnet"
   ]
  },
  {
   "cell_type": "code",
   "execution_count": 13,
   "id": "f2ecac1f-901a-4ea6-9702-df3cf2e8c7b4",
   "metadata": {},
   "outputs": [
    {
     "name": "stderr",
     "output_type": "stream",
     "text": [
      "/home/evstifeev/anaconda3/envs/nn/lib/python3.8/site-packages/torch/nn/functional.py:718: UserWarning: Named tensors and all their associated APIs are an experimental feature and subject to change. Please do not use them for anything important until they are released as stable. (Triggered internally at  /opt/conda/conda-bld/pytorch_1623448278899/work/c10/core/TensorImpl.h:1156.)\n",
      "  return torch.max_pool2d(input, kernel_size, stride, padding, dilation, ceil_mode)\n"
     ]
    },
    {
     "name": "stdout",
     "output_type": "stream",
     "text": [
      "Number of parameters in resnet: 25583592\n",
      "Number of parameters in resnet pytorch: 25557032\n",
      "Ratio: 1.0010392443066158\n"
     ]
    }
   ],
   "source": [
    "num_blocks = [3, 4, 6, 3] # resnet50\n",
    "resnet = ResNet(num_blocks=num_blocks, in_channels=3, num_classes=1000, dilation=2)\n",
    "out = resnet(x)\n",
    "\n",
    "resnet_pytorch = resnet50(replace_stride_with_dilation=[False, False, True])\n",
    "assert out.shape == (2, 1000)\n",
    "print(f\"Number of parameters in resnet: {calculate_params(resnet)}\")\n",
    "print(f\"Number of parameters in resnet pytorch: {calculate_params(resnet_pytorch)}\")\n",
    "print(f\"Ratio: {calculate_params(resnet) / calculate_params(resnet_pytorch)}\")"
   ]
  },
  {
   "cell_type": "markdown",
   "id": "71ed3566-41b7-43cd-99bd-4623b6c1302c",
   "metadata": {},
   "source": [
    "## Mobilenet v2"
   ]
  },
  {
   "cell_type": "code",
   "execution_count": 14,
   "id": "d70c425d-303c-4efa-82d9-14b129c1ae5c",
   "metadata": {},
   "outputs": [],
   "source": [
    "# inverted residual\n",
    "out_ch = 24\n",
    "inverted_residual = InvertedResidual(in_ch, out_ch, expansion=6, stride=2)\n",
    "assert inverted_residual(for_inverted).shape == (2, out_ch, w // 2, h // 2)"
   ]
  },
  {
   "cell_type": "code",
   "execution_count": 15,
   "id": "d111635d-c91c-4936-8d88-02a97a4a45b7",
   "metadata": {},
   "outputs": [
    {
     "data": {
      "text/plain": [
       "[[1, 16, 1, 1],\n",
       " [6, 24, 2, 2],\n",
       " [6, 32, 3, 2],\n",
       " [6, 64, 4, 2],\n",
       " [6, 96, 3, 1],\n",
       " [6, 160, 3, 2],\n",
       " [6, 320, 1, 1]]"
      ]
     },
     "execution_count": 15,
     "metadata": {},
     "output_type": "execute_result"
    }
   ],
   "source": [
    "mobile_net_config # t, c, n, s"
   ]
  },
  {
   "cell_type": "code",
   "execution_count": 16,
   "id": "f7160106-0b2c-4aa6-a1c2-d97df9883ec5",
   "metadata": {},
   "outputs": [
    {
     "name": "stdout",
     "output_type": "stream",
     "text": [
      "Number of parameters in mobilenet v2: 3521928\n"
     ]
    }
   ],
   "source": [
    "# mobilenet_v2\n",
    "mobile_net = MobileNetV2(mobile_net_config, in_channels=3, num_classes=1000)\n",
    "out = mobile_net(x)\n",
    "assert out.shape == (2, 1000)\n",
    "print(f\"Number of parameters in mobilenet v2: {calculate_params(mobile_net)}\")"
   ]
  },
  {
   "cell_type": "markdown",
   "id": "14f75823-f727-4b04-834b-41ca5a6f37a3",
   "metadata": {},
   "source": [
    "## Mobilenet v3"
   ]
  },
  {
   "cell_type": "code",
   "execution_count": 17,
   "id": "c5101566-c3b1-441a-8e0d-6e32082e2a91",
   "metadata": {},
   "outputs": [],
   "source": [
    "inverted_residuals = InvertedResidualV3(in_ch, out_ch=24, activation='SH', kernel_size=3, inner_ch=64, use_se=True, stride=2)\n",
    "assert inverted_residuals(for_inverted).shape == (2, 24, 56, 56)"
   ]
  },
  {
   "cell_type": "markdown",
   "id": "28422727-3c78-47e0-91c7-0564d3fd815f",
   "metadata": {},
   "source": [
    "### Small mobilenet"
   ]
  },
  {
   "cell_type": "code",
   "execution_count": 18,
   "id": "5898b578-35a3-4949-b8e9-e3283b62754a",
   "metadata": {},
   "outputs": [],
   "source": [
    "small_mobile_net = mobilenet_v3_small(in_channels=3, num_classes=1000)\n",
    "out = small_mobile_net(x)\n",
    "assert out.shape == (2, 1000)"
   ]
  },
  {
   "cell_type": "code",
   "execution_count": 19,
   "id": "02cd0334-088d-4c38-bc1d-a69a130f9598",
   "metadata": {},
   "outputs": [
    {
     "name": "stdout",
     "output_type": "stream",
     "text": [
      "Number of parameters in mobilenet v3 small: 2543294\n",
      "Number of parameters in mobilenet pytorch v3 small: 2542856\n",
      "Ratio: 1.0001722472684258\n"
     ]
    }
   ],
   "source": [
    "from torchvision.models.mobilenetv3 import mobilenet_v3_small as pytorch_mobilenet_v3_small\n",
    "mobile_net_pytorch = pytorch_mobilenet_v3_small()\n",
    "params_in_small_mobile_net_v3 = calculate_params(small_mobile_net)\n",
    "params_in_small_mobile_net_v3_pytorch = calculate_params(mobile_net_pytorch)\n",
    "print(f\"Number of parameters in mobilenet v3 small: {params_in_small_mobile_net_v3}\")\n",
    "print(f\"Number of parameters in mobilenet pytorch v3 small: {params_in_small_mobile_net_v3_pytorch}\")\n",
    "print(f\"Ratio: {params_in_small_mobile_net_v3 / params_in_small_mobile_net_v3_pytorch}\") # because of bias in conv"
   ]
  },
  {
   "cell_type": "markdown",
   "id": "ba31be9e-57e7-4ae0-a2f2-7c1ef893c2ae",
   "metadata": {},
   "source": [
    "### Large mobilenet"
   ]
  },
  {
   "cell_type": "code",
   "execution_count": 20,
   "id": "8e97fbb4-9762-4f23-8b63-c89c2ec945b1",
   "metadata": {},
   "outputs": [],
   "source": [
    "large_mobile_net = mobilenet_v3_large(3, 1000)\n",
    "out = large_mobile_net(x)\n",
    "assert out.shape == (2, 1000)"
   ]
  },
  {
   "cell_type": "code",
   "execution_count": 21,
   "id": "901c3f39-52bb-4b8a-9923-48aa403d7da8",
   "metadata": {},
   "outputs": [
    {
     "name": "stdout",
     "output_type": "stream",
     "text": [
      "Number of parameters in mobilenet v3 small: 5493398\n",
      "Number of parameters in mobilenet pytorch v3 small: 5483032\n",
      "Ratio: 1.001890559821646\n"
     ]
    }
   ],
   "source": [
    "from torchvision.models.mobilenetv3 import mobilenet_v3_large as pytorch_mobilenet_v3_large\n",
    "mobile_net_pytorch = pytorch_mobilenet_v3_large()\n",
    "params_in_large_mobile_net_v3 = calculate_params(large_mobile_net)\n",
    "params_in_large_mobile_net_v3_pytorch = calculate_params(mobile_net_pytorch)\n",
    "print(f\"Number of parameters in mobilenet v3 small: {params_in_large_mobile_net_v3}\")\n",
    "print(f\"Number of parameters in mobilenet pytorch v3 small: {params_in_large_mobile_net_v3_pytorch}\")\n",
    "print(f\"Ratio: {params_in_large_mobile_net_v3 / params_in_large_mobile_net_v3_pytorch}\") # because of bias in conv"
   ]
  },
  {
   "cell_type": "markdown",
   "id": "acfe6854-80a4-4e93-8ee1-ed09e4d72f57",
   "metadata": {},
   "source": [
    "### DeepLab v3"
   ]
  },
  {
   "cell_type": "code",
   "execution_count": 22,
   "id": "c2cdec45-cf6f-41a6-ab43-5905e23d5f01",
   "metadata": {},
   "outputs": [
    {
     "name": "stdout",
     "output_type": "stream",
     "text": [
      "Number of parameters in deeplab v3 resnet50: 25694610\n"
     ]
    }
   ],
   "source": [
    "output_stride = 16\n",
    "out_channels = 256\n",
    "\n",
    "deeplab_50 = DeepLabv3(\"resnet50\", out_channels=out_channels, num_classes=1)\n",
    "encoder = deeplab_50.encoder\n",
    "decoder = deeplab_50.decoder\n",
    "aspp = decoder.aspp\n",
    "\n",
    "encoder_out = encoder(x)\n",
    "assert encoder_out[-1].shape == (2, 2048, h_x // output_stride, w_x // output_stride) # 14x14\n",
    "assp_out = aspp(encoder_out[-1])\n",
    "assert assp_out.shape == (2, out_channels, h_x // output_stride, w_x // output_stride)\n",
    "out = deeplab_50(x)\n",
    "assert out.shape == (2, 1, h_x, w_x)\n",
    "\n",
    "print(f\"Number of parameters in deeplab v3 resnet50: {calculate_params(deeplab_50)}\")"
   ]
  },
  {
   "cell_type": "code",
   "execution_count": 23,
   "id": "2bfc2d6a-8fa4-4c90-b6dc-45ce05b983af",
   "metadata": {},
   "outputs": [
    {
     "name": "stdout",
     "output_type": "stream",
     "text": [
      "Number of parameters in deeplab v3 resnet50: 44712850\n"
     ]
    }
   ],
   "source": [
    "deeplab_101 = DeepLabv3(\"resnet101\", out_channels=out_channels, num_classes=1)\n",
    "print(f\"Number of parameters in deeplab v3 resnet50: {calculate_params(deeplab_101)}\")"
   ]
  },
  {
   "cell_type": "code",
   "execution_count": 24,
   "id": "04776ced-128c-47a3-b5fc-eaa5929fc0a0",
   "metadata": {},
   "outputs": [
    {
     "data": {
      "text/plain": [
       "1.7401645714801666"
      ]
     },
     "execution_count": 24,
     "metadata": {},
     "output_type": "execute_result"
    }
   ],
   "source": [
    "44712850 / 25694610"
   ]
  },
  {
   "cell_type": "code",
   "execution_count": null,
   "id": "4eed3917-4dce-4cac-99c6-79b261a1b0a7",
   "metadata": {},
   "outputs": [],
   "source": []
  }
 ],
 "metadata": {
  "kernelspec": {
   "display_name": "Python 3",
   "language": "python",
   "name": "python3"
  },
  "language_info": {
   "codemirror_mode": {
    "name": "ipython",
    "version": 3
   },
   "file_extension": ".py",
   "mimetype": "text/x-python",
   "name": "python",
   "nbconvert_exporter": "python",
   "pygments_lexer": "ipython3",
   "version": "3.8.10"
  }
 },
 "nbformat": 4,
 "nbformat_minor": 5
}

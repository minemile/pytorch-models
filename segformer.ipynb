{
 "cells": [
  {
   "cell_type": "code",
   "execution_count": 1,
   "id": "a834c27c-aff0-401d-9b13-7baac00fc5f3",
   "metadata": {},
   "outputs": [],
   "source": [
    "%load_ext autoreload\n",
    "%autoreload 2\n",
    "\n",
    "import torch\n",
    "import torch.nn as nn\n",
    "import torchvision\n",
    "import torchvision.transforms as transforms\n",
    "import matplotlib.pyplot as plt\n",
    "import numpy as np\n",
    "from torchinfo import summary\n",
    "import timm\n",
    "from pytorch_models_imp.segformer import PatchOverlapEmbeddings, ReducedSelfAttention, MixFFN, SegformerBlock, mitb0"
   ]
  },
  {
   "cell_type": "code",
   "execution_count": 2,
   "id": "685a9f53-8f7d-4369-8bcb-6c1925cf2a9e",
   "metadata": {},
   "outputs": [
    {
     "name": "stdout",
     "output_type": "stream",
     "text": [
      "Files already downloaded and verified\n",
      "Files already downloaded and verified\n"
     ]
    }
   ],
   "source": [
    "transform = transforms.Compose(\n",
    "    [\n",
    "        transforms.ToTensor(),\n",
    "        transforms.Resize((224, 224)),\n",
    "        transforms.Normalize((0.5, 0.5, 0.5), (0.5, 0.5, 0.5))\n",
    "    ]\n",
    ")\n",
    "\n",
    "batch_size = 128\n",
    "\n",
    "trainset = torchvision.datasets.CIFAR10(root='./data', train=True,\n",
    "                                        download=True, transform=transform)\n",
    "trainloader = torch.utils.data.DataLoader(trainset, batch_size=batch_size,\n",
    "                                          shuffle=True, num_workers=5)\n",
    "\n",
    "testset = torchvision.datasets.CIFAR10(root='./data', train=False,\n",
    "                                       download=True, transform=transform)\n",
    "testloader = torch.utils.data.DataLoader(testset, batch_size=batch_size,\n",
    "                                         shuffle=False, num_workers=5)\n",
    "\n",
    "classes = ('plane', 'car', 'bird', 'cat',\n",
    "           'deer', 'dog', 'frog', 'horse', 'ship', 'truck')"
   ]
  },
  {
   "cell_type": "code",
   "execution_count": 3,
   "id": "143a6b34-a434-4ec9-b5de-2c1780b59c14",
   "metadata": {},
   "outputs": [],
   "source": [
    "images, labels = next(iter(trainloader))\n",
    "N, C, H, W = images.shape\n",
    "H_reducted, W_reducted = H // 4, W // 4"
   ]
  },
  {
   "cell_type": "markdown",
   "id": "d13b5f90-b8d3-45c4-bfda-5d5b98fab77c",
   "metadata": {},
   "source": [
    "### Overlapped patch embedder"
   ]
  },
  {
   "cell_type": "code",
   "execution_count": 4,
   "id": "dcaddaaa-bee6-4cc2-9877-6ceb9ad8b60e",
   "metadata": {},
   "outputs": [],
   "source": [
    "EMBED_SIZE = 32\n",
    "patch_embedder = PatchOverlapEmbeddings(input_channels=C, image_sizes=(H_reducted, W_reducted), stride=4, patch_size=7, embed_size=32)\n",
    "number_of_patches = patch_embedder.number_of_patches\n",
    "patch_height_resolution = patch_embedder.patch_height_resolution\n",
    "patch_width_resolution = patch_embedder.patch_width_resoultion"
   ]
  },
  {
   "cell_type": "code",
   "execution_count": 5,
   "id": "18d2372b-0315-489d-afd0-03274584af13",
   "metadata": {},
   "outputs": [],
   "source": [
    "patch_embedder_out = patch_embedder(images)\n",
    "assert patch_embedder_out.shape == (N, H_reducted * W_reducted, EMBED_SIZE)"
   ]
  },
  {
   "cell_type": "markdown",
   "id": "af22331a-3a71-43a3-b5c4-d3a616662219",
   "metadata": {},
   "source": [
    "### Reduced Self Attention"
   ]
  },
  {
   "cell_type": "code",
   "execution_count": 6,
   "id": "ecdf702a-2b40-4d48-8663-9b0554292af9",
   "metadata": {},
   "outputs": [],
   "source": [
    "EMBED_SIZE = 32\n",
    "NUM_HEADS = 2\n",
    "REDUCTION = 2\n",
    "DROPOUT = 0.0\n",
    "attention = ReducedSelfAttention(NUM_HEADS, EMBED_SIZE, REDUCTION, DROPOUT)"
   ]
  },
  {
   "cell_type": "code",
   "execution_count": 7,
   "id": "8f306434-900b-43e4-8537-9878524c0b40",
   "metadata": {},
   "outputs": [],
   "source": [
    "attention_out = attention(patch_embedder_out, H_reducted, W_reducted)\n",
    "assert attention_out.shape == (N, H_reducted * W_reducted, EMBED_SIZE)"
   ]
  },
  {
   "cell_type": "markdown",
   "id": "2cdc8918-6737-496a-b45e-8c81544ebb07",
   "metadata": {},
   "source": [
    "### MIX FFN"
   ]
  },
  {
   "cell_type": "code",
   "execution_count": 8,
   "id": "79fe8957-0242-4ee8-a8b6-d1a901a613a6",
   "metadata": {},
   "outputs": [],
   "source": [
    "MLP_EXPANSION = 4\n",
    "mix_ffn = MixFFN(EMBED_SIZE, MLP_EXPANSION, DROPOUT)"
   ]
  },
  {
   "cell_type": "code",
   "execution_count": 9,
   "id": "ff60528f-8bfc-4dc6-b5d9-a82847e65f8e",
   "metadata": {},
   "outputs": [],
   "source": [
    "out_mix_ffn = mix_ffn(attention_out, H_reducted, W_reducted)\n",
    "assert out_mix_ffn.shape == (N, H_reducted * W_reducted, EMBED_SIZE)"
   ]
  },
  {
   "cell_type": "markdown",
   "id": "8e1f56cf-b487-48cc-a702-4e7a90cef1e6",
   "metadata": {},
   "source": [
    "### Segformer Block"
   ]
  },
  {
   "cell_type": "code",
   "execution_count": 10,
   "id": "f96eefbe-acbb-446e-aeb0-0716340aecae",
   "metadata": {},
   "outputs": [],
   "source": [
    "segformer_block = SegformerBlock(NUM_HEADS, EMBED_SIZE, REDUCTION, MLP_EXPANSION, DROPOUT)"
   ]
  },
  {
   "cell_type": "code",
   "execution_count": 11,
   "id": "32e16a2f-bb84-4263-b0f3-36b06e836b71",
   "metadata": {},
   "outputs": [],
   "source": [
    "out_segformer_block = segformer_block(patch_embedder_out, H_reducted, W_reducted)\n",
    "assert out_segformer_block.shape == (N, H_reducted * W_reducted, EMBED_SIZE)"
   ]
  },
  {
   "cell_type": "markdown",
   "id": "0381ea46-88f5-4eee-8e6c-7a5b3b1427e7",
   "metadata": {},
   "source": [
    "### Segformer Encoder"
   ]
  },
  {
   "cell_type": "code",
   "execution_count": 64,
   "id": "f2e66474-2d9a-4d68-803f-1b2b7d6fde31",
   "metadata": {},
   "outputs": [],
   "source": [
    "segformer_encoder = mitb0((H, W))\n",
    "hidden_states = segformer_encoder(images)"
   ]
  },
  {
   "cell_type": "code",
   "execution_count": 65,
   "id": "afc0aa6d-a00c-4fc3-9b56-e448ba2ff744",
   "metadata": {},
   "outputs": [
    {
     "name": "stdout",
     "output_type": "stream",
     "text": [
      "Hidden state 0 shape: torch.Size([128, 3136, 32])\n",
      "Hidden state 1 shape: torch.Size([128, 784, 64])\n",
      "Hidden state 2 shape: torch.Size([128, 196, 160])\n",
      "Hidden state 3 shape: torch.Size([128, 49, 256])\n"
     ]
    }
   ],
   "source": [
    "for indx, hidden_state in enumerate(hidden_states):\n",
    "    print(f\"Hidden state {indx} shape: {hidden_state.shape}\")"
   ]
  },
  {
   "cell_type": "code",
   "execution_count": 66,
   "id": "a86be15b-d45f-4c65-917a-2845545d6095",
   "metadata": {},
   "outputs": [
    {
     "data": {
      "text/plain": [
       "SegformerEncoder(\n",
       "  (segformer_layers): ModuleList(\n",
       "    (0): SegformerLayer(\n",
       "      (layers): ModuleList(\n",
       "        (layer_0): SegformerBlock(\n",
       "          (attention): ReducedSelfAttention(\n",
       "            (query): Linear(in_features=32, out_features=32, bias=True)\n",
       "            (key): Linear(in_features=32, out_features=32, bias=True)\n",
       "            (value): Linear(in_features=32, out_features=32, bias=True)\n",
       "            (dropout): Dropout(p=0.0, inplace=False)\n",
       "            (reductor): Conv2d(32, 32, kernel_size=(8, 8), stride=(8, 8))\n",
       "            (ln): LayerNorm((32,), eps=1e-05, elementwise_affine=True)\n",
       "            (proj): Linear(in_features=32, out_features=32, bias=True)\n",
       "          )\n",
       "          (mix_ffn): MixFFN(\n",
       "            (fc1): Linear(in_features=32, out_features=256, bias=True)\n",
       "            (fc2): Linear(in_features=256, out_features=32, bias=True)\n",
       "            (position_conv): PositionDWConv(\n",
       "              (conv): Conv2d(256, 256, kernel_size=(3, 3), stride=(1, 1), padding=(1, 1), groups=256)\n",
       "            )\n",
       "            (activation): GELU()\n",
       "            (dropout): Dropout(p=0.0, inplace=False)\n",
       "          )\n",
       "          (ln1): LayerNorm((32,), eps=1e-05, elementwise_affine=True)\n",
       "          (ln2): LayerNorm((32,), eps=1e-05, elementwise_affine=True)\n",
       "        )\n",
       "        (layer_1): SegformerBlock(\n",
       "          (attention): ReducedSelfAttention(\n",
       "            (query): Linear(in_features=32, out_features=32, bias=True)\n",
       "            (key): Linear(in_features=32, out_features=32, bias=True)\n",
       "            (value): Linear(in_features=32, out_features=32, bias=True)\n",
       "            (dropout): Dropout(p=0.0, inplace=False)\n",
       "            (reductor): Conv2d(32, 32, kernel_size=(8, 8), stride=(8, 8))\n",
       "            (ln): LayerNorm((32,), eps=1e-05, elementwise_affine=True)\n",
       "            (proj): Linear(in_features=32, out_features=32, bias=True)\n",
       "          )\n",
       "          (mix_ffn): MixFFN(\n",
       "            (fc1): Linear(in_features=32, out_features=256, bias=True)\n",
       "            (fc2): Linear(in_features=256, out_features=32, bias=True)\n",
       "            (position_conv): PositionDWConv(\n",
       "              (conv): Conv2d(256, 256, kernel_size=(3, 3), stride=(1, 1), padding=(1, 1), groups=256)\n",
       "            )\n",
       "            (activation): GELU()\n",
       "            (dropout): Dropout(p=0.0, inplace=False)\n",
       "          )\n",
       "          (ln1): LayerNorm((32,), eps=1e-05, elementwise_affine=True)\n",
       "          (ln2): LayerNorm((32,), eps=1e-05, elementwise_affine=True)\n",
       "        )\n",
       "      )\n",
       "    )\n",
       "    (1): SegformerLayer(\n",
       "      (layers): ModuleList(\n",
       "        (layer_0): SegformerBlock(\n",
       "          (attention): ReducedSelfAttention(\n",
       "            (query): Linear(in_features=64, out_features=64, bias=True)\n",
       "            (key): Linear(in_features=64, out_features=64, bias=True)\n",
       "            (value): Linear(in_features=64, out_features=64, bias=True)\n",
       "            (dropout): Dropout(p=0.0, inplace=False)\n",
       "            (reductor): Conv2d(64, 64, kernel_size=(4, 4), stride=(4, 4))\n",
       "            (ln): LayerNorm((64,), eps=1e-05, elementwise_affine=True)\n",
       "            (proj): Linear(in_features=64, out_features=64, bias=True)\n",
       "          )\n",
       "          (mix_ffn): MixFFN(\n",
       "            (fc1): Linear(in_features=64, out_features=512, bias=True)\n",
       "            (fc2): Linear(in_features=512, out_features=64, bias=True)\n",
       "            (position_conv): PositionDWConv(\n",
       "              (conv): Conv2d(512, 512, kernel_size=(3, 3), stride=(1, 1), padding=(1, 1), groups=512)\n",
       "            )\n",
       "            (activation): GELU()\n",
       "            (dropout): Dropout(p=0.0, inplace=False)\n",
       "          )\n",
       "          (ln1): LayerNorm((64,), eps=1e-05, elementwise_affine=True)\n",
       "          (ln2): LayerNorm((64,), eps=1e-05, elementwise_affine=True)\n",
       "        )\n",
       "        (layer_1): SegformerBlock(\n",
       "          (attention): ReducedSelfAttention(\n",
       "            (query): Linear(in_features=64, out_features=64, bias=True)\n",
       "            (key): Linear(in_features=64, out_features=64, bias=True)\n",
       "            (value): Linear(in_features=64, out_features=64, bias=True)\n",
       "            (dropout): Dropout(p=0.0, inplace=False)\n",
       "            (reductor): Conv2d(64, 64, kernel_size=(4, 4), stride=(4, 4))\n",
       "            (ln): LayerNorm((64,), eps=1e-05, elementwise_affine=True)\n",
       "            (proj): Linear(in_features=64, out_features=64, bias=True)\n",
       "          )\n",
       "          (mix_ffn): MixFFN(\n",
       "            (fc1): Linear(in_features=64, out_features=512, bias=True)\n",
       "            (fc2): Linear(in_features=512, out_features=64, bias=True)\n",
       "            (position_conv): PositionDWConv(\n",
       "              (conv): Conv2d(512, 512, kernel_size=(3, 3), stride=(1, 1), padding=(1, 1), groups=512)\n",
       "            )\n",
       "            (activation): GELU()\n",
       "            (dropout): Dropout(p=0.0, inplace=False)\n",
       "          )\n",
       "          (ln1): LayerNorm((64,), eps=1e-05, elementwise_affine=True)\n",
       "          (ln2): LayerNorm((64,), eps=1e-05, elementwise_affine=True)\n",
       "        )\n",
       "      )\n",
       "    )\n",
       "    (2): SegformerLayer(\n",
       "      (layers): ModuleList(\n",
       "        (layer_0): SegformerBlock(\n",
       "          (attention): ReducedSelfAttention(\n",
       "            (query): Linear(in_features=160, out_features=160, bias=True)\n",
       "            (key): Linear(in_features=160, out_features=160, bias=True)\n",
       "            (value): Linear(in_features=160, out_features=160, bias=True)\n",
       "            (dropout): Dropout(p=0.0, inplace=False)\n",
       "            (reductor): Conv2d(160, 160, kernel_size=(2, 2), stride=(2, 2))\n",
       "            (ln): LayerNorm((160,), eps=1e-05, elementwise_affine=True)\n",
       "            (proj): Linear(in_features=160, out_features=160, bias=True)\n",
       "          )\n",
       "          (mix_ffn): MixFFN(\n",
       "            (fc1): Linear(in_features=160, out_features=640, bias=True)\n",
       "            (fc2): Linear(in_features=640, out_features=160, bias=True)\n",
       "            (position_conv): PositionDWConv(\n",
       "              (conv): Conv2d(640, 640, kernel_size=(3, 3), stride=(1, 1), padding=(1, 1), groups=640)\n",
       "            )\n",
       "            (activation): GELU()\n",
       "            (dropout): Dropout(p=0.0, inplace=False)\n",
       "          )\n",
       "          (ln1): LayerNorm((160,), eps=1e-05, elementwise_affine=True)\n",
       "          (ln2): LayerNorm((160,), eps=1e-05, elementwise_affine=True)\n",
       "        )\n",
       "        (layer_1): SegformerBlock(\n",
       "          (attention): ReducedSelfAttention(\n",
       "            (query): Linear(in_features=160, out_features=160, bias=True)\n",
       "            (key): Linear(in_features=160, out_features=160, bias=True)\n",
       "            (value): Linear(in_features=160, out_features=160, bias=True)\n",
       "            (dropout): Dropout(p=0.0, inplace=False)\n",
       "            (reductor): Conv2d(160, 160, kernel_size=(2, 2), stride=(2, 2))\n",
       "            (ln): LayerNorm((160,), eps=1e-05, elementwise_affine=True)\n",
       "            (proj): Linear(in_features=160, out_features=160, bias=True)\n",
       "          )\n",
       "          (mix_ffn): MixFFN(\n",
       "            (fc1): Linear(in_features=160, out_features=640, bias=True)\n",
       "            (fc2): Linear(in_features=640, out_features=160, bias=True)\n",
       "            (position_conv): PositionDWConv(\n",
       "              (conv): Conv2d(640, 640, kernel_size=(3, 3), stride=(1, 1), padding=(1, 1), groups=640)\n",
       "            )\n",
       "            (activation): GELU()\n",
       "            (dropout): Dropout(p=0.0, inplace=False)\n",
       "          )\n",
       "          (ln1): LayerNorm((160,), eps=1e-05, elementwise_affine=True)\n",
       "          (ln2): LayerNorm((160,), eps=1e-05, elementwise_affine=True)\n",
       "        )\n",
       "      )\n",
       "    )\n",
       "    (3): SegformerLayer(\n",
       "      (layers): ModuleList(\n",
       "        (layer_0): SegformerBlock(\n",
       "          (attention): ReducedSelfAttention(\n",
       "            (query): Linear(in_features=256, out_features=256, bias=True)\n",
       "            (key): Linear(in_features=256, out_features=256, bias=True)\n",
       "            (value): Linear(in_features=256, out_features=256, bias=True)\n",
       "            (dropout): Dropout(p=0.0, inplace=False)\n",
       "            (proj): Linear(in_features=256, out_features=256, bias=True)\n",
       "          )\n",
       "          (mix_ffn): MixFFN(\n",
       "            (fc1): Linear(in_features=256, out_features=1024, bias=True)\n",
       "            (fc2): Linear(in_features=1024, out_features=256, bias=True)\n",
       "            (position_conv): PositionDWConv(\n",
       "              (conv): Conv2d(1024, 1024, kernel_size=(3, 3), stride=(1, 1), padding=(1, 1), groups=1024)\n",
       "            )\n",
       "            (activation): GELU()\n",
       "            (dropout): Dropout(p=0.0, inplace=False)\n",
       "          )\n",
       "          (ln1): LayerNorm((256,), eps=1e-05, elementwise_affine=True)\n",
       "          (ln2): LayerNorm((256,), eps=1e-05, elementwise_affine=True)\n",
       "        )\n",
       "        (layer_1): SegformerBlock(\n",
       "          (attention): ReducedSelfAttention(\n",
       "            (query): Linear(in_features=256, out_features=256, bias=True)\n",
       "            (key): Linear(in_features=256, out_features=256, bias=True)\n",
       "            (value): Linear(in_features=256, out_features=256, bias=True)\n",
       "            (dropout): Dropout(p=0.0, inplace=False)\n",
       "            (proj): Linear(in_features=256, out_features=256, bias=True)\n",
       "          )\n",
       "          (mix_ffn): MixFFN(\n",
       "            (fc1): Linear(in_features=256, out_features=1024, bias=True)\n",
       "            (fc2): Linear(in_features=1024, out_features=256, bias=True)\n",
       "            (position_conv): PositionDWConv(\n",
       "              (conv): Conv2d(1024, 1024, kernel_size=(3, 3), stride=(1, 1), padding=(1, 1), groups=1024)\n",
       "            )\n",
       "            (activation): GELU()\n",
       "            (dropout): Dropout(p=0.0, inplace=False)\n",
       "          )\n",
       "          (ln1): LayerNorm((256,), eps=1e-05, elementwise_affine=True)\n",
       "          (ln2): LayerNorm((256,), eps=1e-05, elementwise_affine=True)\n",
       "        )\n",
       "      )\n",
       "    )\n",
       "  )\n",
       "  (patch_merges): ModuleList(\n",
       "    (0): PatchOverlapEmbeddings(\n",
       "      (conv): Conv2d(3, 32, kernel_size=(7, 7), stride=(4, 4), padding=(3, 3))\n",
       "      (norm): LayerNorm((32,), eps=1e-05, elementwise_affine=True)\n",
       "    )\n",
       "    (1): PatchOverlapEmbeddings(\n",
       "      (conv): Conv2d(32, 64, kernel_size=(3, 3), stride=(2, 2), padding=(1, 1))\n",
       "      (norm): LayerNorm((64,), eps=1e-05, elementwise_affine=True)\n",
       "    )\n",
       "    (2): PatchOverlapEmbeddings(\n",
       "      (conv): Conv2d(64, 160, kernel_size=(3, 3), stride=(2, 2), padding=(1, 1))\n",
       "      (norm): LayerNorm((160,), eps=1e-05, elementwise_affine=True)\n",
       "    )\n",
       "    (3): PatchOverlapEmbeddings(\n",
       "      (conv): Conv2d(160, 256, kernel_size=(3, 3), stride=(2, 2), padding=(1, 1))\n",
       "      (norm): LayerNorm((256,), eps=1e-05, elementwise_affine=True)\n",
       "    )\n",
       "  )\n",
       ")"
      ]
     },
     "execution_count": 66,
     "metadata": {},
     "output_type": "execute_result"
    }
   ],
   "source": [
    "segformer_encoder"
   ]
  },
  {
   "cell_type": "code",
   "execution_count": null,
   "id": "c782cfb7-c048-4cbb-b851-92a00967c083",
   "metadata": {},
   "outputs": [],
   "source": []
  }
 ],
 "metadata": {
  "kernelspec": {
   "display_name": "Python 3 (ipykernel)",
   "language": "python",
   "name": "python3"
  },
  "language_info": {
   "codemirror_mode": {
    "name": "ipython",
    "version": 3
   },
   "file_extension": ".py",
   "mimetype": "text/x-python",
   "name": "python",
   "nbconvert_exporter": "python",
   "pygments_lexer": "ipython3",
   "version": "3.8.12"
  }
 },
 "nbformat": 4,
 "nbformat_minor": 5
}

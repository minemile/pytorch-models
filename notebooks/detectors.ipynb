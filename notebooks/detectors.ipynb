{
 "cells": [
  {
   "cell_type": "code",
   "execution_count": 85,
   "id": "bf266744-4df6-45ee-9e77-e6f301870f3e",
   "metadata": {},
   "outputs": [
    {
     "name": "stdout",
     "output_type": "stream",
     "text": [
      "The autoreload extension is already loaded. To reload it, use:\n",
      "  %reload_ext autoreload\n"
     ]
    }
   ],
   "source": [
    "%load_ext autoreload\n",
    "%autoreload 2\n",
    "\n",
    "import torch\n",
    "import torch.nn as nn\n",
    "import torchvision\n",
    "import torchvision.transforms as transforms\n",
    "import matplotlib.pyplot as plt\n",
    "import numpy as np\n",
    "\n",
    "from pytorch_models_imp.detectors.utils import intersection_over_union"
   ]
  },
  {
   "cell_type": "code",
   "execution_count": 86,
   "id": "3024cc31-ab23-4f61-bd88-b32bca20ac30",
   "metadata": {},
   "outputs": [],
   "source": [
    "t1_box1 = torch.tensor([[1, 2, 3, 4], [1, 1, 3, 3]])\n",
    "t1_box2 = torch.tensor([[2, 0, 4, 2], [1, 2, 3, 4]])"
   ]
  },
  {
   "cell_type": "code",
   "execution_count": null,
   "id": "6c8eb1e4-46fd-4565-9ab8-559306232d18",
   "metadata": {},
   "outputs": [],
   "source": []
  },
  {
   "cell_type": "code",
   "execution_count": 95,
   "id": "2fcb0c6a-a8af-4c0c-9be2-59dc80d3436a",
   "metadata": {},
   "outputs": [
    {
     "data": {
      "text/plain": [
       "tensor([0.0000, 0.3333])"
      ]
     },
     "execution_count": 95,
     "metadata": {},
     "output_type": "execute_result"
    }
   ],
   "source": [
    "intersection_over_union(t1_box1, t1_box2).flatten()"
   ]
  },
  {
   "cell_type": "code",
   "execution_count": 55,
   "id": "2d9b4f0f-d390-4dae-88a7-7dfc47e1729e",
   "metadata": {},
   "outputs": [
    {
     "data": {
      "text/plain": [
       "0.14285714285714285"
      ]
     },
     "execution_count": 55,
     "metadata": {},
     "output_type": "execute_result"
    }
   ],
   "source": [
    "1 / 7"
   ]
  },
  {
   "cell_type": "code",
   "execution_count": 5,
   "id": "d3d23791-2988-42ea-971e-1965a4478869",
   "metadata": {},
   "outputs": [],
   "source": [
    "x_min_pred = t1_box1[:, 0].unsqueeze(0)\n",
    "y_min_pred = t1_box1[:, 1].unsqueeze(0)\n",
    "x_max_pred = t1_box1[:, 2].unsqueeze(0)\n",
    "y_max_pred = t1_box1[:, 3].unsqueeze(0)\n",
    "\n",
    "x_min_true = t1_box2[:, 0].unsqueeze(0)\n",
    "y_min_true = t1_box2[:, 1].unsqueeze(0)\n",
    "x_max_true = t1_box2[:, 2].unsqueeze(0)\n",
    "y_max_true = t1_box2[:, 3].unsqueeze(0)"
   ]
  },
  {
   "cell_type": "code",
   "execution_count": 6,
   "id": "ee102921-8ee1-426a-9869-eb6f8a7d6937",
   "metadata": {},
   "outputs": [
    {
     "data": {
      "text/plain": [
       "tensor([[0.9000]])"
      ]
     },
     "execution_count": 6,
     "metadata": {},
     "output_type": "execute_result"
    }
   ],
   "source": [
    "torch.max(x_min_pred, x_min_true)"
   ]
  },
  {
   "cell_type": "code",
   "execution_count": 7,
   "id": "276fb9b9-2ee0-41f1-94d5-bf223d13f92f",
   "metadata": {},
   "outputs": [
    {
     "data": {
      "text/plain": [
       "tensor([[0.8000]])"
      ]
     },
     "execution_count": 7,
     "metadata": {},
     "output_type": "execute_result"
    }
   ],
   "source": [
    "x_min_pred"
   ]
  },
  {
   "cell_type": "code",
   "execution_count": 36,
   "id": "e55d061d-dfd9-4d15-bf3d-caa807715136",
   "metadata": {},
   "outputs": [
    {
     "data": {
      "text/plain": [
       "0.25"
      ]
     },
     "execution_count": 36,
     "metadata": {},
     "output_type": "execute_result"
    }
   ],
   "source": [
    "1 / 4"
   ]
  },
  {
   "cell_type": "code",
   "execution_count": null,
   "id": "affb312a-a29a-4177-8d37-3f8bb7bf641a",
   "metadata": {},
   "outputs": [],
   "source": []
  }
 ],
 "metadata": {
  "kernelspec": {
   "display_name": "tables",
   "language": "python",
   "name": "tables"
  },
  "language_info": {
   "codemirror_mode": {
    "name": "ipython",
    "version": 3
   },
   "file_extension": ".py",
   "mimetype": "text/x-python",
   "name": "python",
   "nbconvert_exporter": "python",
   "pygments_lexer": "ipython3",
   "version": "3.8.13"
  }
 },
 "nbformat": 4,
 "nbformat_minor": 5
}
